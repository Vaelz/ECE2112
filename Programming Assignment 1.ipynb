{
 "cells": [
  {
   "cell_type": "markdown",
   "id": "c6126705-73ab-4b13-94bd-829c3891e121",
   "metadata": {},
   "source": [
    "#### *Alphabeth Soup Problem*"
   ]
  },
  {
   "cell_type": "code",
   "execution_count": 3,
   "id": "d5964485-5f2b-4bc5-ba80-4daedd103df6",
   "metadata": {},
   "outputs": [
    {
     "name": "stdin",
     "output_type": "stream",
     "text": [
      "Enter A Word:  magical\n"
     ]
    },
    {
     "name": "stdout",
     "output_type": "stream",
     "text": [
      "aacgilm"
     ]
    }
   ],
   "source": [
    "Word = input(\"Enter A Word: \")\n",
    "Sort = sorted(Word)\n",
    "for letter in Sort:\n",
    "    print(letter, end=\"\")"
   ]
  },
  {
   "cell_type": "markdown",
   "id": "fa543e7b-9a9e-4714-afec-259392faa401",
   "metadata": {},
   "source": [
    "#### *Emoticon Problem*"
   ]
  },
  {
   "cell_type": "code",
   "execution_count": 5,
   "id": "c6d86238-df3a-4f80-a758-ba00bc64fa38",
   "metadata": {},
   "outputs": [
    {
     "name": "stdin",
     "output_type": "stream",
     "text": [
      "Enter A Sentence:  I feel Smile, Grin, Sad, and Mad about this\n"
     ]
    },
    {
     "name": "stdout",
     "output_type": "stream",
     "text": [
      "I feel :), :D, :((, and >:( about this\n"
     ]
    }
   ],
   "source": [
    "Sentence = input(\"Enter A Sentence: \")\n",
    "\n",
    "if \"Smile\" in Sentence or \"smile\" in Sentence:\n",
    "    Sentence = Sentence.replace(\"Smile\", \":)\").replace(\"smile\", \":)\")\n",
    "if \"Grin\" in Sentence or \"grin\" in Sentence:\n",
    "    Sentence = Sentence.replace(\"Grin\", \":D\").replace(\"grin\", \":D\")\n",
    "if \"Sad\" in Sentence or \"sad\" in Sentence:\n",
    "    Sentence = Sentence.replace(\"Sad\", \":((\").replace(\"sad\", \":((\")\n",
    "if \"Mad\" in Sentence or \"mad\" in Sentence:\n",
    "    Sentence = Sentence.replace(\"Mad\", \">:(\").replace(\"mad\", \">:(\")\n",
    "\n",
    "print(Sentence)"
   ]
  },
  {
   "cell_type": "markdown",
   "id": "ad01c59f-b2be-40f1-abdf-3c3cfa7bd4b1",
   "metadata": {},
   "source": [
    "#### *Unpacking List Problem*"
   ]
  },
  {
   "cell_type": "code",
   "execution_count": 124,
   "id": "1b17a6ba-68fc-4872-b6f5-25e9bc223392",
   "metadata": {},
   "outputs": [
    {
     "name": "stdout",
     "output_type": "stream",
     "text": [
      "Write Your Code Here\n"
     ]
    }
   ],
   "source": [
    "writeyourcodehere = [\"Write\", \"Your\", \"Code\", \"Here\"]\n",
    "First = writeyourcodehere[0]\n",
    "Middle1 = writeyourcodehere[1]\n",
    "Middle2 = writeyourcodehere[2]\n",
    "Middle = Middle1 + ' ' + Middle2\n",
    "Last = writeyourcodehere[-1]\n",
    "print(First, Middle, Last)"
   ]
  }
 ],
 "metadata": {
  "kernelspec": {
   "display_name": "Python 3 (ipykernel)",
   "language": "python",
   "name": "python3"
  },
  "language_info": {
   "codemirror_mode": {
    "name": "ipython",
    "version": 3
   },
   "file_extension": ".py",
   "mimetype": "text/x-python",
   "name": "python",
   "nbconvert_exporter": "python",
   "pygments_lexer": "ipython3",
   "version": "3.12.4"
  }
 },
 "nbformat": 4,
 "nbformat_minor": 5
}
